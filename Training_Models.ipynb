{
  "nbformat": 4,
  "nbformat_minor": 0,
  "metadata": {
    "colab": {
      "name": "Training Models.ipynb",
      "version": "0.3.2",
      "provenance": [],
      "toc_visible": true,
      "include_colab_link": true
    },
    "kernelspec": {
      "name": "python3",
      "display_name": "Python 3"
    },
    "accelerator": "GPU"
  },
  "cells": [
    {
      "cell_type": "markdown",
      "metadata": {
        "id": "view-in-github",
        "colab_type": "text"
      },
      "source": [
        "<a href=\"https://colab.research.google.com/github/mymess/Bitcoin-nodes-globe/blob/master/Training_Models.ipynb\" target=\"_parent\"><img src=\"https://colab.research.google.com/assets/colab-badge.svg\" alt=\"Open In Colab\"/></a>"
      ]
    },
    {
      "cell_type": "markdown",
      "metadata": {
        "id": "aQ03MvKurXJr",
        "colab_type": "text"
      },
      "source": [
        "# Introduction\n",
        "Having a good understanding of how things work can help us quickly home in on the\n",
        "appropriate model, the right training algorithm to use, and a good set of hyperparameters for our task.\n",
        "\n",
        "Understanding what’s under the hood will also help us debug issues and perform error analysis more\n",
        "efficiently. Lastly, most of the topics discussed in this chapter will be essential in understanding, building,\n",
        "and training neural networks.\n",
        "\n",
        "In this section, we will start by looking at the Linear Regression model, one of the simplest models there\n",
        "is. We will discuss two very different ways to train it:\n",
        "\n",
        "*   Using a direct “closed-form” equation that directly computes the model parameters that best fit the model to the training set (i.e., the model parameters that minimize the cost function over the training\n",
        "set).\n",
        "\n",
        "*   Using an iterative optimization approach, called Gradient Descent (GD), that gradually tweaks the\n",
        "model parameters to minimize the cost function over the training set, eventually converging to the\n",
        "same set of parameters as the first method. We will look at a few variants of Gradient Descent that\n",
        "we will use again and again when we study neural networks in Part II: Batch GD, Mini-batch GD,\n",
        "and Stochastic GD.\n",
        "\n",
        "\n",
        "Next we will look at Polynomial Regression, a more complex model that can fit nonlinear datasets. Since\n",
        "this model has more parameters than Linear Regression, it is more prone to overfitting the training data,\n",
        "so we will look at how to detect whether or not this is the case, using learning curves, and then we will\n",
        "look at several regularization techniques that can reduce the risk of overfitting the training set.\n",
        "\n",
        "Finally, we will look at two more models that are commonly used for classification tasks: Logistic\n",
        "Regression and Softmax Regression."
      ]
    },
    {
      "cell_type": "markdown",
      "metadata": {
        "id": "vYfLtr40t99V",
        "colab_type": "text"
      },
      "source": [
        "#Setup"
      ]
    },
    {
      "cell_type": "code",
      "metadata": {
        "id": "KhHd1melt_7O",
        "colab_type": "code",
        "colab": {}
      },
      "source": [
        "# To support both python 2 and python 3\n",
        "from __future__ import division, print_function, unicode_literals\n",
        "\n",
        "# Common imports\n",
        "import numpy as np\n",
        "import os\n",
        "\n",
        "# to make this notebook's output stable across runs\n",
        "np.random.seed(42)\n",
        "\n",
        "# To plot pretty figures\n",
        "%matplotlib inline\n",
        "import matplotlib as mpl\n",
        "import matplotlib.pyplot as plt\n",
        "mpl.rc('axes', labelsize=14)\n",
        "mpl.rc('xtick', labelsize=12)\n",
        "mpl.rc('ytick', labelsize=12)\n",
        "\n",
        "# Where to save the figures\n",
        "PROJECT_ROOT_DIR = \".\"\n",
        "CHAPTER_ID = \"training_linear_models\"\n",
        "\n",
        "def save_fig(fig_id, tight_layout=True):\n",
        "    path = os.path.join(PROJECT_ROOT_DIR, \"images\", CHAPTER_ID, fig_id + \".png\")\n",
        "    print(\"Saving figure\", fig_id)\n",
        "    if tight_layout:\n",
        "        plt.tight_layout()\n",
        "    plt.savefig(path, format='png', dpi=300)\n",
        "\n",
        "# Ignore useless warnings (see SciPy issue #5998)\n",
        "import warnings\n",
        "warnings.filterwarnings(action=\"ignore\", message=\"^internal gelsd\")"
      ],
      "execution_count": 0,
      "outputs": []
    },
    {
      "cell_type": "markdown",
      "metadata": {
        "id": "iPP8Zu1nsdz7",
        "colab_type": "text"
      },
      "source": [
        "#1. Linear Regression"
      ]
    },
    {
      "cell_type": "markdown",
      "metadata": {
        "id": "kCZpJUQMsm8u",
        "colab_type": "text"
      },
      "source": [
        "A linear model makes a prediction by simply computing a weighted sum of the input\n",
        "features, plus a constant called the bias term (also called the intercept term), as follows:\n",
        "\n",
        "**TODO: add equations**"
      ]
    },
    {
      "cell_type": "markdown",
      "metadata": {
        "id": "hqJ1p-9etecO",
        "colab_type": "text"
      },
      "source": [
        "Let's generate a random linear dataset and plot it:"
      ]
    },
    {
      "cell_type": "code",
      "metadata": {
        "id": "mZTUGRHtn7nc",
        "colab_type": "code",
        "colab": {
          "base_uri": "https://localhost:8080/",
          "height": 294
        },
        "outputId": "a197a354-770a-4ba1-d783-cada26a77b41"
      },
      "source": [
        "import numpy as np\n",
        "X = 2 * np.random.rand(100, 1)\n",
        "y = 4 + 3 * X + np.random.randn(100, 1)\n",
        "\n",
        "plt.plot(X, y, \"b.\")\n",
        "plt.xlabel(\"$x_1$\", fontsize=18)\n",
        "plt.ylabel(\"$y$\", rotation=0, fontsize=18)\n",
        "plt.axis([0, 2, 0, 15])\n",
        "#save_fig(\"generated_data_plot\")\n",
        "plt.show()"
      ],
      "execution_count": 2,
      "outputs": [
        {
          "output_type": "display_data",
          "data": {
            "image/png": "[encoded data removed]",
            "text/plain": [
              "<Figure size 432x288 with 1 Axes>"
            ]
          },
          "metadata": {
            "tags": []
          }
        }
      ]
    },
    {
      "cell_type": "markdown",
      "metadata": {
        "id": "vMMceFDGtmEi",
        "colab_type": "text"
      },
      "source": [
        "Now let’s compute using the Normal Equation. We will use the `inv()` function from NumPy’s Linear\n",
        "Algebra module (`np.linalg`) to compute the inverse of a matrix, and the `dot()` method for matrix multiplication:"
      ]
    },
    {
      "cell_type": "code",
      "metadata": {
        "id": "EFFSIntDttDk",
        "colab_type": "code",
        "colab": {}
      },
      "source": [
        "X_b = np.c_[np.ones((100, 1)), X] # add x0 = 1 to each instance\n",
        "theta_best = np.linalg.inv(X_b.T.dot(X_b)).dot(X_b.T).dot(y)"
      ],
      "execution_count": 0,
      "outputs": []
    },
    {
      "cell_type": "markdown",
      "metadata": {
        "id": "WIlj_jf7uNfU",
        "colab_type": "text"
      },
      "source": [
        "The actual function that we used to generate the data is $y = 4 + 3*x_0 + GaussianNoise$. Let’s see what the\n",
        "equation found:"
      ]
    },
    {
      "cell_type": "code",
      "metadata": {
        "id": "Wkbf9k9BuLkX",
        "colab_type": "code",
        "colab": {
          "base_uri": "https://localhost:8080/",
          "height": 50
        },
        "outputId": "30c2df64-27cb-4d65-86ab-01b62e40f76f"
      },
      "source": [
        "theta_best"
      ],
      "execution_count": 4,
      "outputs": [
        {
          "output_type": "execute_result",
          "data": {
            "text/plain": [
              "array([[4.21509616],\n",
              "       [2.77011339]])"
            ]
          },
          "metadata": {
            "tags": []
          },
          "execution_count": 4
        }
      ]
    },
    {
      "cell_type": "markdown",
      "metadata": {
        "id": "W2Eba5_Eu1Oz",
        "colab_type": "text"
      },
      "source": [
        "We would have hoped for  \\$θ_0 = 4$  and\n",
        "$θ_1 = 3$ instead of $a_0 =  4.215$ and\n",
        "$θ_1 = 2.770$.\n",
        "\n",
        "Close enough, but the noise made it impossible to recover the exact parameters of the original function.\n"
      ]
    },
    {
      "cell_type": "code",
      "metadata": {
        "id": "LA97tSGEsuVe",
        "colab_type": "code",
        "colab": {
          "base_uri": "https://localhost:8080/",
          "height": 50
        },
        "outputId": "9ab1a364-3a6f-4813-a797-92b443e3edc4"
      },
      "source": [
        "X_new = np.array([[0], [2]])\n",
        "X_new_b = np.c_[np.ones((2, 1)), X_new] # add x0 = 1 to each instance\n",
        "y_predict = X_new_b.dot(theta_best)\n",
        "y_predict"
      ],
      "execution_count": 5,
      "outputs": [
        {
          "output_type": "execute_result",
          "data": {
            "text/plain": [
              "array([[4.21509616],\n",
              "       [9.75532293]])"
            ]
          },
          "metadata": {
            "tags": []
          },
          "execution_count": 5
        }
      ]
    },
    {
      "cell_type": "markdown",
      "metadata": {
        "id": "qGJpXHqQsrdC",
        "colab_type": "text"
      },
      "source": [
        "Now, let's do the same thing the Scikit-Learn way:"
      ]
    },
    {
      "cell_type": "code",
      "metadata": {
        "id": "iBMfhDKrvcWo",
        "colab_type": "code",
        "colab": {
          "base_uri": "https://localhost:8080/",
          "height": 34
        },
        "outputId": "93ad7e32-f2f0-4f6f-894d-92ef90eb7217"
      },
      "source": [
        "from sklearn.linear_model import LinearRegression\n",
        "lin_reg = LinearRegression()\n",
        "lin_reg.fit(X, y)\n",
        "print(\"y = {0} + {1}*x\".format(np.float(lin_reg.intercept_), np.float(lin_reg.coef_)))\n",
        "\n",
        "X_new = np.array([[0], [2]])\n",
        "X_new_b = np.c_[np.ones((2, 1)), X_new] # add x0 = 1 to each instance\n",
        "y_predict = X_new_b.dot(theta_best)\n"
      ],
      "execution_count": 24,
      "outputs": [
        {
          "output_type": "stream",
          "text": [
            "y = 4.215096157546746 + 2.770113386438484*x\n"
          ],
          "name": "stdout"
        }
      ]
    },
    {
      "cell_type": "markdown",
      "metadata": {
        "id": "J0nGiUfQrsDy",
        "colab_type": "text"
      },
      "source": [
        "We can now plot the result:"
      ]
    },
    {
      "cell_type": "code",
      "metadata": {
        "id": "gdEbCacxzpao",
        "colab_type": "code",
        "colab": {
          "base_uri": "https://localhost:8080/",
          "height": 272
        },
        "outputId": "cdb7ff8e-a84e-44ad-8c2f-1b81f23689e3"
      },
      "source": [
        "plt.plot(X_new, y_predict, \"r-\", label=\"y = 4.215 + 2.7701x\")\n",
        "plt.plot(X, y, \"b.\", label=\"Data\")\n",
        "plt.legend(loc=\"upper left\")\n",
        "plt.axis([0, 2, 0, 15])\n",
        "plt.show()"
      ],
      "execution_count": 22,
      "outputs": [
        {
          "output_type": "display_data",
          "data": {
            "image/png": "[encoded data removed]",
            "text/plain": [
              "<Figure size 432x288 with 1 Axes>"
            ]
          },
          "metadata": {
            "tags": []
          }
        }
      ]
    },
    {
      "cell_type": "markdown",
      "metadata": {
        "id": "jTVr0esaxIPb",
        "colab_type": "text"
      },
      "source": [
        "#2. Polynomial Regression\n"
      ]
    },
    {
      "cell_type": "markdown",
      "metadata": {
        "id": "5pCqloVmxNLk",
        "colab_type": "text"
      },
      "source": [
        "What if our data is actually more complex than a simple straight line? Surprisingly, we can actually use\n",
        "a linear model to fit nonlinear data. A simple way to do this is to add powers of each feature as new\n",
        "features, then train a linear model on this extended set of features. This technique is called ***Polynomial Regression***.\n",
        "Let’s look at an example. First, let’s generate some nonlinear data, based on a simple quadratic equation plus some noise:"
      ]
    },
    {
      "cell_type": "code",
      "metadata": {
        "id": "tlrZ42ngxhOA",
        "colab_type": "code",
        "colab": {
          "base_uri": "https://localhost:8080/",
          "height": 295
        },
        "outputId": "5cd5a892-20cc-4b09-cbb6-acac6ad96552"
      },
      "source": [
        "m = 100\n",
        "X = 6 * np.random.rand(m, 1) - 3\n",
        "y = 0.5 * X**2 + X + 2 + np.random.randn(m, 1)\n",
        "\n",
        "plt.plot(X, y, \"b.\")\n",
        "plt.xlabel(\"$x_1$\", fontsize=18)\n",
        "plt.ylabel(\"$y$\", rotation=0, fontsize=18)\n",
        "plt.axis([-3, 3, 0, 10])\n",
        "#save_fig(\"generated_data_plot\")\n",
        "plt.show()"
      ],
      "execution_count": 36,
      "outputs": [
        {
          "output_type": "display_data",
          "data": {
            "image/png": "[encoded data removed]",
            "text/plain": [
              "<Figure size 432x288 with 1 Axes>"
            ]
          },
          "metadata": {
            "tags": []
          }
        }
      ]
    },
    {
      "cell_type": "markdown",
      "metadata": {
        "id": "Tev9DfEmx3nX",
        "colab_type": "text"
      },
      "source": [
        "Clearly, a straight line will never fit this data properly. So let’s use Scikit-Learn’s **`PolynomialFeatures`**\n",
        "class to transform our training data, adding the square (2nd-degree polynomial) of each feature in the\n",
        "training set as new features (in this case there is just one feature):"
      ]
    },
    {
      "cell_type": "code",
      "metadata": {
        "id": "gWz2wXunx9wC",
        "colab_type": "code",
        "colab": {
          "base_uri": "https://localhost:8080/",
          "height": 34
        },
        "outputId": "b673fdce-85bb-4bad-900e-e5e3ef2ac028"
      },
      "source": [
        "from sklearn.preprocessing import PolynomialFeatures\n",
        "poly_features = PolynomialFeatures(degree=2, include_bias=False)\n",
        "X_poly = poly_features.fit_transform(X)\n",
        "X[0]"
      ],
      "execution_count": 37,
      "outputs": [
        {
          "output_type": "execute_result",
          "data": {
            "text/plain": [
              "array([1.76886782])"
            ]
          },
          "metadata": {
            "tags": []
          },
          "execution_count": 37
        }
      ]
    },
    {
      "cell_type": "markdown",
      "metadata": {
        "id": "Psx62LaQy2Lg",
        "colab_type": "text"
      },
      "source": [
        "`X_poly` now contains the original feature of X plus the square of this feature. Now you can fit a `LinearRegression` model to this extended training data:"
      ]
    },
    {
      "cell_type": "code",
      "metadata": {
        "id": "jeGDmdHhy7by",
        "colab_type": "code",
        "colab": {
          "base_uri": "https://localhost:8080/",
          "height": 34
        },
        "outputId": "38c79e21-d268-4c22-be9a-4db7c3cdf04d"
      },
      "source": [
        "lin_reg = LinearRegression()\n",
        "lin_reg.fit(X_poly, y)\n",
        "lin_reg.intercept_, lin_reg.coef_"
      ],
      "execution_count": 38,
      "outputs": [
        {
          "output_type": "execute_result",
          "data": {
            "text/plain": [
              "(array([1.99958228]), array([[1.04630034, 0.5015459 ]]))"
            ]
          },
          "metadata": {
            "tags": []
          },
          "execution_count": 38
        }
      ]
    },
    {
      "cell_type": "code",
      "metadata": {
        "id": "6jWkoE0U6xoE",
        "colab_type": "code",
        "colab": {
          "base_uri": "https://localhost:8080/",
          "height": 295
        },
        "outputId": "a514541a-18e9-4d47-eadc-b2febb0ae4a0"
      },
      "source": [
        "X_new=np.linspace(-3, 3, 100).reshape(100, 1)\n",
        "X_new_poly = poly_features.transform(X_new)\n",
        "y_new = lin_reg.predict(X_new_poly)\n",
        "plt.plot(X, y, \"b.\")\n",
        "plt.plot(X_new, y_new, \"r-\", linewidth=2, label=\"Predictions\")\n",
        "plt.xlabel(\"$x_1$\", fontsize=18)\n",
        "plt.ylabel(\"$y$\", rotation=0, fontsize=18)\n",
        "plt.legend(loc=\"upper left\", fontsize=14)\n",
        "plt.axis([-3, 3, 0, 10])\n",
        "#save_fig(\"quadratic_predictions_plot\")\n",
        "plt.show()"
      ],
      "execution_count": 39,
      "outputs": [
        {
          "output_type": "display_data",
          "data": {
            "image/png": "[encoded data removed]",
            "text/plain": [
              "<Figure size 432x288 with 1 Axes>"
            ]
          },
          "metadata": {
            "tags": []
          }
        }
      ]
    },
    {
      "cell_type": "markdown",
      "metadata": {
        "id": "VY--N8a54_sA",
        "colab_type": "text"
      },
      "source": [
        "Not bad: the model estimates $y = 1.9996 + 1.0463 x + 0.5015x^2 $ when in fact the original function was $y = 2 + x + 0.5 x^2$"
      ]
    },
    {
      "cell_type": "markdown",
      "metadata": {
        "id": "8r6-yO6W7oNE",
        "colab_type": "text"
      },
      "source": [
        "Note that when there are multiple features, Polynomial Regression is capable of finding relationships\n",
        "between features (which is something a plain Linear Regression model cannot do). This is made possible\n",
        "by the fact that PolynomialFeatures also adds all combinations of features up to the given degree. For\n",
        "example, if there were two features a and b, `PolynomialFeatures` with degree=3 would not only add the features $a^2, a^3, b^2, \\ and \\ b^3$, but also the combinations $ab, a^2b \\ and \\ ab^2$."
      ]
    },
    {
      "cell_type": "markdown",
      "metadata": {
        "id": "rrUqdOky87zz",
        "colab_type": "text"
      },
      "source": [
        "#Learning curves\n",
        "\n",
        "How can we decide how complex our model should be? How can we tell\n",
        "that your model is overfitting or underfitting the data?\n",
        "In the Multivariate regression section we used cross-validation to get an estimate of a model’s generalization performance. \n",
        "\n",
        "**If a\n",
        "model performs well on the training data but generalizes poorly according to the cross-validation metrics, then our model is overfitting. If it performs poorly on both, then it is underfitting.** \n",
        "\n",
        "This is one way to tell\n",
        "when a model is too simple or too complex.\n",
        "\n",
        "\n",
        "Another way is to look at the learning curves: these are plots of the model’s performance on the training\n",
        "set and the validation set as a function of the training set size. To generate the plots, simply train the model\n",
        "several times on different sized subsets of the training set. \n",
        "\n",
        "The following code defines a function that plots\n",
        "the learning curves of a model given some training data:"
      ]
    },
    {
      "cell_type": "code",
      "metadata": {
        "id": "AWJDd9iM48LV",
        "colab_type": "code",
        "colab": {}
      },
      "source": [
        "from sklearn.metrics import mean_squared_error\n",
        "from sklearn.model_selection import train_test_split\n",
        "\n",
        "def plot_learning_curves(model, X, y):\n",
        "  \n",
        "  X_train, X_val, y_train, y_val = train_test_split(X, y, test_size=0.2)\n",
        "  train_errors, val_errors = [], []\n",
        "  for m in range(1, len(X_train)):\n",
        "    model.fit(X_train[:m], y_train[:m])\n",
        "    y_train_predict = model.predict(X_train[:m])\n",
        "    y_val_predict = model.predict(X_val)\n",
        "    train_errors.append(mean_squared_error(y_train_predict, y_train[:m]))\n",
        "    val_errors.append(mean_squared_error(y_val_predict, y_val))\n",
        "  plt.plot(np.sqrt(train_errors), \"r-+\", linewidth=2, label=\"train\")\n",
        "  plt.plot(np.sqrt(val_errors), \"b-\", linewidth=3, label=\"val\")\n",
        "  plt.axis([0, 80, 0, 3])                         # not shown in the book\n",
        "  #save_fig(\"underfitting_learning_curves_plot\")   # not shown\n",
        "  plt.legend(loc=\"upper right\", fontsize=14)   # not shown in the book\n",
        "  plt.xlabel(\"Training set size\", fontsize=14) # not shown\n",
        "  plt.ylabel(\"RMSE\", fontsize=14)              # not shown\n",
        "  plt.show()                                      # not shown\n"
      ],
      "execution_count": 0,
      "outputs": []
    },
    {
      "cell_type": "markdown",
      "metadata": {
        "id": "9AwcoOUbAavU",
        "colab_type": "text"
      },
      "source": [
        "##Underfitting the model"
      ]
    },
    {
      "cell_type": "code",
      "metadata": {
        "id": "Dfb-zmfHAbSE",
        "colab_type": "code",
        "colab": {
          "base_uri": "https://localhost:8080/",
          "height": 291
        },
        "outputId": "f87af60b-5fb9-428f-df87-7c8596506f6a"
      },
      "source": [
        "lin_reg = LinearRegression()\n",
        "plot_learning_curves(lin_reg, X, y)\n"
      ],
      "execution_count": 45,
      "outputs": [
        {
          "output_type": "display_data",
          "data": {
            "image/png": "[encoded data removed]",
            "text/plain": [
              "<Figure size 432x288 with 1 Axes>"
            ]
          },
          "metadata": {
            "tags": []
          }
        }
      ]
    },
    {
      "cell_type": "markdown",
      "metadata": {
        "id": "SfZkom1iAypf",
        "colab_type": "text"
      },
      "source": [
        "This deserves a bit of explanation. First, let’s look at the performance on the training data: when there are\n",
        "just one or two instances in the training set, the model can fit them perfectly, which is why the curve starts\n",
        "at zero. But as new instances are added to the training set, it becomes impossible for the model to fit the\n",
        "training data perfectly, both because the data is noisy and because it is not linear at all. So the error on the\n",
        "training data goes up until it reaches a plateau, at which point adding new instances to the training set\n",
        "doesn’t make the average error much better or worse. Now let’s look at the performance of the model on\n",
        "the validation data. When the model is trained on very few training instances, it is incapable of\n",
        "generalizing properly, which is why the validation error is initially quite big. Then as the model is shown\n",
        "more training examples, it learns and thus the validation error slowly goes down. \n",
        "\n",
        "However, once again a\n",
        "straight line cannot do a good job modeling the data, so the error ends up at a plateau, very close to the\n",
        "other curve.\n",
        "\n",
        "\n",
        "These learning curves are typical of an underfitting model. Both curves have reached a plateau; they are\n",
        "close and fairly high."
      ]
    },
    {
      "cell_type": "markdown",
      "metadata": {
        "id": "PKu5ahprDm96",
        "colab_type": "text"
      },
      "source": [
        "##Best fitting the model"
      ]
    },
    {
      "cell_type": "markdown",
      "metadata": {
        "id": "oKP_-1yzA6Bx",
        "colab_type": "text"
      },
      "source": [
        "Now let’s look at the learning curves of a 2nd-degree polynomial model on the same data, i.e. the model that best fits the data:"
      ]
    },
    {
      "cell_type": "code",
      "metadata": {
        "id": "r4xDsUD7A-pT",
        "colab_type": "code",
        "colab": {
          "base_uri": "https://localhost:8080/",
          "height": 291
        },
        "outputId": "986dd524-89ac-4514-96f6-28bb3e41e681"
      },
      "source": [
        "from sklearn.pipeline import Pipeline\n",
        "polynomial_regression = Pipeline((\n",
        "(\"poly_features\", PolynomialFeatures(degree=2, include_bias=False)),\n",
        "(\"lin_reg\", LinearRegression()),\n",
        "))\n",
        "\n",
        "plot_learning_curves(polynomial_regression, X, y)"
      ],
      "execution_count": 47,
      "outputs": [
        {
          "output_type": "display_data",
          "data": {
            "image/png": "[encoded data removed]",
            "text/plain": [
              "<Figure size 432x288 with 1 Axes>"
            ]
          },
          "metadata": {
            "tags": []
          }
        }
      ]
    },
    {
      "cell_type": "markdown",
      "metadata": {
        "id": "4JZAUhsvBWZT",
        "colab_type": "text"
      },
      "source": [
        "This is how the chart for the best model should look like. Both curves cross with each other quite quickly and both tend to the minimum RMSE, which is around 1.\n",
        "\n"
      ]
    },
    {
      "cell_type": "markdown",
      "metadata": {
        "id": "Qvh16NhsDwQK",
        "colab_type": "text"
      },
      "source": [
        "##Overfitting the model"
      ]
    },
    {
      "cell_type": "markdown",
      "metadata": {
        "id": "qbAtgjmzDv_6",
        "colab_type": "text"
      },
      "source": [
        "Now let’s look at the learning curves of a 10th-degree polynomial model (an overfitting model) on the same data:"
      ]
    },
    {
      "cell_type": "code",
      "metadata": {
        "id": "W6yeXUctCD5w",
        "colab_type": "code",
        "colab": {
          "base_uri": "https://localhost:8080/",
          "height": 291
        },
        "outputId": "fffa4d6a-de04-4999-c0d0-400b8c445447"
      },
      "source": [
        "from sklearn.pipeline import Pipeline\n",
        "\n",
        "polynomial_regression = Pipeline((\n",
        "(\"poly_features\", PolynomialFeatures(degree=10, include_bias=False)),\n",
        "(\"lin_reg\", LinearRegression()),\n",
        "))\n",
        "\n",
        "plot_learning_curves(polynomial_regression, X, y)"
      ],
      "execution_count": 48,
      "outputs": [
        {
          "output_type": "display_data",
          "data": {
            "image/png": "[encoded data removed]",
            "text/plain": [
              "<Figure size 432x288 with 1 Axes>"
            ]
          },
          "metadata": {
            "tags": []
          }
        }
      ]
    },
    {
      "cell_type": "markdown",
      "metadata": {
        "id": "m2hWWlk4CC_Z",
        "colab_type": "text"
      },
      "source": [
        "These learning curves look a bit like the previous ones, but there are two very important differences:\n",
        "\n",
        "\n",
        "*   The error on the training data is much lower than with the Linear Regression model (one degree polynomial).\n",
        "*   **There is a gap between the curves**. This means that **the model performs significantly better on the\n",
        "training data than on the validation data, which is the hallmark of an overfitting model**. However, if\n",
        "you used a much larger training set, the two curves would continue to get closer."
      ]
    },
    {
      "cell_type": "markdown",
      "metadata": {
        "id": "LomJ4dnuC7IB",
        "colab_type": "text"
      },
      "source": [
        ""
      ]
    }
  ]
}